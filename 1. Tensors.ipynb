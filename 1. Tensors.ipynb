{
  "cells": [
    {
      "cell_type": "code",
      "execution_count": 2,
      "metadata": {
        "colab": {
          "base_uri": "https://localhost:8080/"
        },
        "id": "02mhikx62DIn",
        "outputId": "d13109d3-8ece-44d5-f4d8-a5cd976c0185"
      },
      "outputs": [
        {
          "output_type": "stream",
          "name": "stdout",
          "text": [
            "2.5.1+cu121\n"
          ]
        }
      ],
      "source": [
        "import torch\n",
        "print(torch.__version__)"
      ]
    },
    {
      "cell_type": "code",
      "execution_count": 3,
      "metadata": {
        "colab": {
          "base_uri": "https://localhost:8080/"
        },
        "id": "aGxR5RV42cUC",
        "outputId": "45767367-5596-4e98-b2c6-cc93dd6791f1"
      },
      "outputs": [
        {
          "output_type": "stream",
          "name": "stdout",
          "text": [
            "GPU is Available\n",
            "Using GPU: Tesla T4\n"
          ]
        }
      ],
      "source": [
        "if torch.cuda.is_available():\n",
        "  print(\"GPU is Available\")\n",
        "  print(f'Using GPU: {torch.cuda.get_device_name(0)}')\n",
        "else:\n",
        "  print(\"GPU not available. Using CPU\")"
      ]
    },
    {
      "cell_type": "markdown",
      "metadata": {
        "id": "YjTMrWrf24ZE"
      },
      "source": [
        "# 1. Creating Tensors"
      ]
    },
    {
      "cell_type": "code",
      "execution_count": 4,
      "metadata": {
        "id": "tRwXpFRD24BJ"
      },
      "outputs": [],
      "source": [
        "# Using Empty\n",
        "a = torch.empty(2,4)"
      ]
    },
    {
      "cell_type": "code",
      "execution_count": 5,
      "metadata": {
        "colab": {
          "base_uri": "https://localhost:8080/"
        },
        "id": "b_ThI2RT5wGo",
        "outputId": "3cf117b9-3cff-441b-82cc-d66344a54eb1"
      },
      "outputs": [
        {
          "output_type": "execute_result",
          "data": {
            "text/plain": [
              "torch.Tensor"
            ]
          },
          "metadata": {},
          "execution_count": 5
        }
      ],
      "source": [
        "# Check Type\n",
        "type(a)"
      ]
    },
    {
      "cell_type": "code",
      "execution_count": 6,
      "metadata": {
        "colab": {
          "base_uri": "https://localhost:8080/"
        },
        "id": "a0tnz_W_55Qu",
        "outputId": "f496bc76-de27-4e2f-9a73-6fbe9d29e20e"
      },
      "outputs": [
        {
          "output_type": "execute_result",
          "data": {
            "text/plain": [
              "tensor([[0., 0.],\n",
              "        [0., 0.]])"
            ]
          },
          "metadata": {},
          "execution_count": 6
        }
      ],
      "source": [
        "# Using Zeros\n",
        "torch.zeros(2,2)"
      ]
    },
    {
      "cell_type": "code",
      "execution_count": 7,
      "metadata": {
        "colab": {
          "base_uri": "https://localhost:8080/"
        },
        "id": "rysj9iVr5-EQ",
        "outputId": "3cd97468-c801-4305-872f-c0fd5a9336b0"
      },
      "outputs": [
        {
          "output_type": "execute_result",
          "data": {
            "text/plain": [
              "tensor([[1., 1., 1.],\n",
              "        [1., 1., 1.]])"
            ]
          },
          "metadata": {},
          "execution_count": 7
        }
      ],
      "source": [
        "# Torch Ones\n",
        "torch.ones(2,3)"
      ]
    },
    {
      "cell_type": "code",
      "execution_count": 8,
      "metadata": {
        "colab": {
          "base_uri": "https://localhost:8080/"
        },
        "id": "n32Cl4rs6EOi",
        "outputId": "bec2c7fc-da0e-41a0-9c11-5c68c2b4973b"
      },
      "outputs": [
        {
          "output_type": "execute_result",
          "data": {
            "text/plain": [
              "tensor([[0.4942, 0.2326, 0.2836],\n",
              "        [0.4720, 0.5913, 0.3662]])"
            ]
          },
          "metadata": {},
          "execution_count": 8
        }
      ],
      "source": [
        "# Use of Rand\n",
        "torch.rand(2,3)"
      ]
    },
    {
      "cell_type": "code",
      "execution_count": 10,
      "metadata": {
        "colab": {
          "base_uri": "https://localhost:8080/"
        },
        "id": "VYMeih4P6KEc",
        "outputId": "409f79bb-82cb-4265-86e9-e0440e64c80d"
      },
      "outputs": [
        {
          "output_type": "execute_result",
          "data": {
            "text/plain": [
              "tensor([[0.8823, 0.9150, 0.3829],\n",
              "        [0.9593, 0.3904, 0.6009]])"
            ]
          },
          "metadata": {},
          "execution_count": 10
        }
      ],
      "source": [
        "# Use of seed\n",
        "torch.manual_seed(42)\n",
        "torch.rand(2,3)"
      ]
    },
    {
      "cell_type": "code",
      "source": [
        "torch.manual_seed(100)\n",
        "torch.rand(2,3)"
      ],
      "metadata": {
        "colab": {
          "base_uri": "https://localhost:8080/"
        },
        "id": "kLmDZp8Z8VFD",
        "outputId": "8eb8b60c-d38e-4662-829c-caa74a57dd49"
      },
      "execution_count": 70,
      "outputs": [
        {
          "output_type": "execute_result",
          "data": {
            "text/plain": [
              "tensor([[0.1117, 0.8158, 0.2626],\n",
              "        [0.4839, 0.6765, 0.7539]])"
            ]
          },
          "metadata": {},
          "execution_count": 70
        }
      ]
    },
    {
      "cell_type": "code",
      "source": [
        "# using tensor\n",
        "torch.tensor([[1,2,3],[4,5,6]])"
      ],
      "metadata": {
        "colab": {
          "base_uri": "https://localhost:8080/"
        },
        "id": "L_88Zd0H8XWk",
        "outputId": "891db893-3056-4ec5-c12e-abc103e6ca11"
      },
      "execution_count": 71,
      "outputs": [
        {
          "output_type": "execute_result",
          "data": {
            "text/plain": [
              "tensor([[1, 2, 3],\n",
              "        [4, 5, 6]])"
            ]
          },
          "metadata": {},
          "execution_count": 71
        }
      ]
    },
    {
      "cell_type": "code",
      "source": [
        "# other ways\n",
        "\n",
        "# arange\n",
        "print(\"using arange ->\", torch.arange(0,10,2))\n"
      ],
      "metadata": {
        "colab": {
          "base_uri": "https://localhost:8080/"
        },
        "id": "MqRWxXcr8ZlD",
        "outputId": "96438fd6-8b59-437c-8b37-283366ca3830"
      },
      "execution_count": 72,
      "outputs": [
        {
          "output_type": "stream",
          "name": "stdout",
          "text": [
            "using arange -> tensor([0, 2, 4, 6, 8])\n"
          ]
        }
      ]
    },
    {
      "cell_type": "markdown",
      "source": [
        "**`torch.linspace`** is a PyTorch function that generates a sequence of evenly spaced numbers over a specified range. It's often used for tasks like sampling points in a range or generating data for plotting"
      ],
      "metadata": {
        "id": "-yVr5rwK8xpk"
      }
    },
    {
      "cell_type": "code",
      "source": [
        "# using linspace\n",
        "print(\"using linspace ->\", torch.linspace(0,10,10))\n"
      ],
      "metadata": {
        "colab": {
          "base_uri": "https://localhost:8080/"
        },
        "id": "b7T4zhOZ8ijt",
        "outputId": "753d2511-9f4d-4595-b74d-a0199abbd7c4"
      },
      "execution_count": 73,
      "outputs": [
        {
          "output_type": "stream",
          "name": "stdout",
          "text": [
            "using linspace -> tensor([ 0.0000,  1.1111,  2.2222,  3.3333,  4.4444,  5.5556,  6.6667,  7.7778,\n",
            "         8.8889, 10.0000])\n"
          ]
        }
      ]
    },
    {
      "cell_type": "code",
      "source": [
        "# using eye ( Creates Identity Matrix)\n",
        "print(\"using eye ->\", torch.eye(5))"
      ],
      "metadata": {
        "colab": {
          "base_uri": "https://localhost:8080/"
        },
        "id": "Ts4zgePp83FY",
        "outputId": "d82076b3-5340-4bc2-c7c8-fd1063dd6a8d"
      },
      "execution_count": 74,
      "outputs": [
        {
          "output_type": "stream",
          "name": "stdout",
          "text": [
            "using eye -> tensor([[1., 0., 0., 0., 0.],\n",
            "        [0., 1., 0., 0., 0.],\n",
            "        [0., 0., 1., 0., 0.],\n",
            "        [0., 0., 0., 1., 0.],\n",
            "        [0., 0., 0., 0., 1.]])\n"
          ]
        }
      ]
    },
    {
      "cell_type": "code",
      "source": [
        "# using full\n",
        "print(\"using full ->\", torch.full((3, 3), 5))"
      ],
      "metadata": {
        "colab": {
          "base_uri": "https://localhost:8080/"
        },
        "id": "ds2SI3tp89eR",
        "outputId": "1613f442-610b-4caa-8f40-480986b7a6ec"
      },
      "execution_count": 75,
      "outputs": [
        {
          "output_type": "stream",
          "name": "stdout",
          "text": [
            "using full -> tensor([[5, 5, 5],\n",
            "        [5, 5, 5],\n",
            "        [5, 5, 5]])\n"
          ]
        }
      ]
    },
    {
      "cell_type": "markdown",
      "source": [
        "# 2. Tensor Shapes"
      ],
      "metadata": {
        "id": "iGBKwGgx9EQ9"
      }
    },
    {
      "cell_type": "code",
      "source": [
        "x = torch.tensor([[1,2,3],[4,5,6]], dtype=torch.float32)\n",
        "x"
      ],
      "metadata": {
        "colab": {
          "base_uri": "https://localhost:8080/"
        },
        "id": "Q5RfqdLT9G0H",
        "outputId": "78227d0d-4ff3-4893-a644-c13ee690766d"
      },
      "execution_count": 81,
      "outputs": [
        {
          "output_type": "execute_result",
          "data": {
            "text/plain": [
              "tensor([[1., 2., 3.],\n",
              "        [4., 5., 6.]])"
            ]
          },
          "metadata": {},
          "execution_count": 81
        }
      ]
    },
    {
      "cell_type": "code",
      "source": [
        "x.shape"
      ],
      "metadata": {
        "colab": {
          "base_uri": "https://localhost:8080/"
        },
        "id": "TgQ8fC1Q9Iz1",
        "outputId": "d4d49b2c-73d6-44a7-9acf-66dbb8fe18ff"
      },
      "execution_count": 77,
      "outputs": [
        {
          "output_type": "execute_result",
          "data": {
            "text/plain": [
              "torch.Size([2, 3])"
            ]
          },
          "metadata": {},
          "execution_count": 77
        }
      ]
    },
    {
      "cell_type": "markdown",
      "source": [
        "**`torch.empty_like`** function creates a new tensor with the same shape, data type, and device as an existing tensor, but without initializing its values (i.e., it contains uninitialized or \"garbage\" data)."
      ],
      "metadata": {
        "id": "WGbmP7c69Xlb"
      }
    },
    {
      "cell_type": "code",
      "source": [
        "torch.empty_like(x)"
      ],
      "metadata": {
        "colab": {
          "base_uri": "https://localhost:8080/"
        },
        "id": "tc5cr5TL9LJl",
        "outputId": "ee937e65-31a2-48c0-a82a-75ac90707ac9"
      },
      "execution_count": 78,
      "outputs": [
        {
          "output_type": "execute_result",
          "data": {
            "text/plain": [
              "tensor([[3616445622929465956, 6066686442253397300, 4121702075501001008],\n",
              "        [6499315714907844910, 7309453675965983778, 8315168162784306286]])"
            ]
          },
          "metadata": {},
          "execution_count": 78
        }
      ]
    },
    {
      "cell_type": "code",
      "source": [
        "torch.zeros_like(x)"
      ],
      "metadata": {
        "colab": {
          "base_uri": "https://localhost:8080/"
        },
        "id": "pQ-i0Su19k6q",
        "outputId": "a82c73ab-b2c3-4c61-d4c9-4525dd919858"
      },
      "execution_count": 79,
      "outputs": [
        {
          "output_type": "execute_result",
          "data": {
            "text/plain": [
              "tensor([[0, 0, 0],\n",
              "        [0, 0, 0]])"
            ]
          },
          "metadata": {},
          "execution_count": 79
        }
      ]
    },
    {
      "cell_type": "code",
      "source": [
        "torch.ones_like(x)"
      ],
      "metadata": {
        "colab": {
          "base_uri": "https://localhost:8080/"
        },
        "id": "5EtxmIe-9m1s",
        "outputId": "07cb293a-b67d-4bf6-c47f-8b7091def09d"
      },
      "execution_count": 80,
      "outputs": [
        {
          "output_type": "execute_result",
          "data": {
            "text/plain": [
              "tensor([[1, 1, 1],\n",
              "        [1, 1, 1]])"
            ]
          },
          "metadata": {},
          "execution_count": 80
        }
      ]
    },
    {
      "cell_type": "code",
      "source": [
        "# To generates rand_like original vector should hace float values\n",
        "torch.rand_like(x, dtype=torch.float32)"
      ],
      "metadata": {
        "colab": {
          "base_uri": "https://localhost:8080/"
        },
        "id": "bhU78Kei9o-K",
        "outputId": "e9e8ec93-b670-4b69-fa4f-635120c5e156"
      },
      "execution_count": 82,
      "outputs": [
        {
          "output_type": "execute_result",
          "data": {
            "text/plain": [
              "tensor([[0.2627, 0.0428, 0.2080],\n",
              "        [0.1180, 0.1217, 0.7356]])"
            ]
          },
          "metadata": {},
          "execution_count": 82
        }
      ]
    },
    {
      "cell_type": "markdown",
      "source": [
        "# 3. Tensor Data Types"
      ],
      "metadata": {
        "id": "k43bgZG-93C9"
      }
    },
    {
      "cell_type": "code",
      "source": [
        "# find data type\n",
        "x.dtype"
      ],
      "metadata": {
        "colab": {
          "base_uri": "https://localhost:8080/"
        },
        "id": "YufNOT2g95qq",
        "outputId": "e93890b4-5c23-4e45-8738-c23df7b6bec0"
      },
      "execution_count": 83,
      "outputs": [
        {
          "output_type": "execute_result",
          "data": {
            "text/plain": [
              "torch.float32"
            ]
          },
          "metadata": {},
          "execution_count": 83
        }
      ]
    },
    {
      "cell_type": "code",
      "source": [
        "# assign data type\n",
        "torch.tensor([1.0,2.0,3.0], dtype=torch.int32)"
      ],
      "metadata": {
        "colab": {
          "base_uri": "https://localhost:8080/"
        },
        "id": "fjSLVBsf97n2",
        "outputId": "1189fc20-73d6-460f-e3bd-227a7842d586"
      },
      "execution_count": 84,
      "outputs": [
        {
          "output_type": "execute_result",
          "data": {
            "text/plain": [
              "tensor([1, 2, 3], dtype=torch.int32)"
            ]
          },
          "metadata": {},
          "execution_count": 84
        }
      ]
    },
    {
      "cell_type": "code",
      "source": [
        "torch.tensor([1,2,3], dtype=torch.float64)"
      ],
      "metadata": {
        "colab": {
          "base_uri": "https://localhost:8080/"
        },
        "id": "ZiuIRHd699x4",
        "outputId": "c5790e50-5875-4478-b823-5b37a3d0b44a"
      },
      "execution_count": 85,
      "outputs": [
        {
          "output_type": "execute_result",
          "data": {
            "text/plain": [
              "tensor([1., 2., 3.], dtype=torch.float64)"
            ]
          },
          "metadata": {},
          "execution_count": 85
        }
      ]
    },
    {
      "cell_type": "code",
      "source": [
        "# using to()\n",
        "x.to(torch.float32)"
      ],
      "metadata": {
        "colab": {
          "base_uri": "https://localhost:8080/"
        },
        "id": "-JY25DqM9_nu",
        "outputId": "97b4134b-8e91-48df-b238-2abc0f2ff9fe"
      },
      "execution_count": 86,
      "outputs": [
        {
          "output_type": "execute_result",
          "data": {
            "text/plain": [
              "tensor([[1., 2., 3.],\n",
              "        [4., 5., 6.]])"
            ]
          },
          "metadata": {},
          "execution_count": 86
        }
      ]
    },
    {
      "cell_type": "markdown",
      "source": [
        "| **Data Type**             | **Dtype**         | **Description**                                                                                                                                                                |\n",
        "|---------------------------|-------------------|--------------------------------------------------------------------------------------------------------------------------------------------------------------------------------|\n",
        "| **32-bit Floating Point** | `torch.float32`   | Standard floating-point type used for most deep learning tasks. Provides a balance between precision and memory usage.                                                         |\n",
        "| **64-bit Floating Point** | `torch.float64`   | Double-precision floating point. Useful for high-precision numerical tasks but uses more memory.                                                                               |\n",
        "| **16-bit Floating Point** | `torch.float16`   | Half-precision floating point. Commonly used in mixed-precision training to reduce memory and computational overhead on modern GPUs.                                            |\n",
        "| **BFloat16**              | `torch.bfloat16`  | Brain floating-point format with reduced precision compared to `float16`. Used in mixed-precision training, especially on TPUs.                                                |\n",
        "| **8-bit Floating Point**  | `torch.float8`    | Ultra-low-precision floating point. Used for experimental applications and extreme memory-constrained environments (less common).                                               |\n",
        "| **8-bit Integer**         | `torch.int8`      | 8-bit signed integer. Used for quantized models to save memory and computation in inference.                                                                                   |\n",
        "| **16-bit Integer**        | `torch.int16`     | 16-bit signed integer. Useful for special numerical tasks requiring intermediate precision.                                                                                    |\n",
        "| **32-bit Integer**        | `torch.int32`     | Standard signed integer type. Commonly used for indexing and general-purpose numerical tasks.                                                                                  |\n",
        "| **64-bit Integer**        | `torch.int64`     | Long integer type. Often used for large indexing arrays or for tasks involving large numbers.                                                                                  |\n",
        "| **8-bit Unsigned Integer**| `torch.uint8`     | 8-bit unsigned integer. Commonly used for image data (e.g., pixel values between 0 and 255).                                                                                    |\n",
        "| **Boolean**               | `torch.bool`      | Boolean type, stores `True` or `False` values. Often used for masks in logical operations.                                                                                      |\n",
        "| **Complex 64**            | `torch.complex64` | Complex number type with 32-bit real and 32-bit imaginary parts. Used for scientific and signal processing tasks.                                                               |\n",
        "| **Complex 128**           | `torch.complex128`| Complex number type with 64-bit real and 64-bit imaginary parts. Offers higher precision but uses more memory.                                                                 |\n",
        "| **Quantized Integer**     | `torch.qint8`     | Quantized signed 8-bit integer. Used in quantized models for efficient inference.                                                                                              |\n",
        "| **Quantized Unsigned Integer** | `torch.quint8` | Quantized unsigned 8-bit integer. Often used for quantized tensors in image-related tasks.                                                                                     |\n"
      ],
      "metadata": {
        "id": "moCga7ZJ-GMs"
      }
    },
    {
      "cell_type": "markdown",
      "source": [
        "# Mathematical Operations"
      ],
      "metadata": {
        "id": "hVtkPrgd-LZU"
      }
    },
    {
      "cell_type": "markdown",
      "source": [
        "### 1. Scaler Operations"
      ],
      "metadata": {
        "id": "CKkFrloR-Oy-"
      }
    },
    {
      "cell_type": "code",
      "source": [
        "x = torch.rand(2,2)\n",
        "x"
      ],
      "metadata": {
        "colab": {
          "base_uri": "https://localhost:8080/"
        },
        "id": "HnCYw6q3-IJD",
        "outputId": "cb82bdfb-0ea2-42a9-d01e-b2353e8b7718"
      },
      "execution_count": 87,
      "outputs": [
        {
          "output_type": "execute_result",
          "data": {
            "text/plain": [
              "tensor([[0.7118, 0.7876],\n",
              "        [0.4183, 0.9014]])"
            ]
          },
          "metadata": {},
          "execution_count": 87
        }
      ]
    },
    {
      "cell_type": "code",
      "source": [
        "# addition\n",
        "x + 2\n",
        "# substraction\n",
        "x - 2\n",
        "# multiplication\n",
        "x * 3\n",
        "# division\n",
        "x / 3\n",
        "# int division\n",
        "(x * 100)//3\n",
        "# mod\n",
        "((x * 100)//3)%2\n",
        "# power\n",
        "x**2"
      ],
      "metadata": {
        "colab": {
          "base_uri": "https://localhost:8080/"
        },
        "id": "GHtQia4d-ZZE",
        "outputId": "7e4105ac-5191-4fec-c5cc-fe13df47ed43"
      },
      "execution_count": 88,
      "outputs": [
        {
          "output_type": "execute_result",
          "data": {
            "text/plain": [
              "tensor([[0.5066, 0.6203],\n",
              "        [0.1750, 0.8125]])"
            ]
          },
          "metadata": {},
          "execution_count": 88
        }
      ]
    },
    {
      "cell_type": "markdown",
      "source": [
        "### 2. Element wise operation"
      ],
      "metadata": {
        "id": "9eYWcEGD-cY3"
      }
    },
    {
      "cell_type": "code",
      "source": [
        "a = torch.rand(2,3)\n",
        "b = torch.rand(2,3)\n",
        "\n",
        "print(a)\n",
        "print(b)"
      ],
      "metadata": {
        "colab": {
          "base_uri": "https://localhost:8080/"
        },
        "id": "Hn6anpFM-eCC",
        "outputId": "99443deb-8f32-4cf7-ab5c-bc159c450dc7"
      },
      "execution_count": 89,
      "outputs": [
        {
          "output_type": "stream",
          "name": "stdout",
          "text": [
            "tensor([[0.9969, 0.7565, 0.2239],\n",
            "        [0.3023, 0.1784, 0.8238]])\n",
            "tensor([[0.5557, 0.9770, 0.4440],\n",
            "        [0.9478, 0.7445, 0.4892]])\n"
          ]
        }
      ]
    },
    {
      "cell_type": "code",
      "source": [
        "# add\n",
        "a + b\n",
        "# sub\n",
        "a - b\n",
        "# multiply\n",
        "a * b\n",
        "# division\n",
        "a / b\n",
        "# power\n",
        "a ** b\n",
        "# mod\n",
        "a % b"
      ],
      "metadata": {
        "colab": {
          "base_uri": "https://localhost:8080/"
        },
        "id": "5qcI1BOA-hVT",
        "outputId": "dd3b1232-e4c0-41b2-d8b5-321e8c9e0406"
      },
      "execution_count": 90,
      "outputs": [
        {
          "output_type": "execute_result",
          "data": {
            "text/plain": [
              "tensor([[0.4411, 0.7565, 0.2239],\n",
              "        [0.3023, 0.1784, 0.3346]])"
            ]
          },
          "metadata": {},
          "execution_count": 90
        }
      ]
    },
    {
      "cell_type": "code",
      "source": [
        "c = torch.tensor([1, -2, 3, -4])"
      ],
      "metadata": {
        "id": "s3k5TBkW-jaP"
      },
      "execution_count": 91,
      "outputs": []
    },
    {
      "cell_type": "code",
      "source": [
        "# abs\n",
        "torch.abs(c)"
      ],
      "metadata": {
        "colab": {
          "base_uri": "https://localhost:8080/"
        },
        "id": "iLpludHn-k7p",
        "outputId": "319b0d9a-c162-410c-caa1-7bf0f864a8bb"
      },
      "execution_count": 92,
      "outputs": [
        {
          "output_type": "execute_result",
          "data": {
            "text/plain": [
              "tensor([1, 2, 3, 4])"
            ]
          },
          "metadata": {},
          "execution_count": 92
        }
      ]
    },
    {
      "cell_type": "code",
      "source": [
        "# negative\n",
        "torch.neg(c)"
      ],
      "metadata": {
        "colab": {
          "base_uri": "https://localhost:8080/"
        },
        "id": "avi2fzaV-oIM",
        "outputId": "2eb0af2c-e21e-4933-fedc-db2ac20fc5a4"
      },
      "execution_count": 93,
      "outputs": [
        {
          "output_type": "execute_result",
          "data": {
            "text/plain": [
              "tensor([-1,  2, -3,  4])"
            ]
          },
          "metadata": {},
          "execution_count": 93
        }
      ]
    },
    {
      "cell_type": "code",
      "source": [
        "d = torch.tensor([1.9, 2.3, 3.7, 4.4])"
      ],
      "metadata": {
        "id": "RyDjUdtU-rkd"
      },
      "execution_count": 94,
      "outputs": []
    },
    {
      "cell_type": "code",
      "source": [
        "# round\n",
        "torch.round(d)"
      ],
      "metadata": {
        "colab": {
          "base_uri": "https://localhost:8080/"
        },
        "id": "fk52erqt-tFU",
        "outputId": "cbcd0819-f01e-494a-e38d-c16576ceaa9d"
      },
      "execution_count": 95,
      "outputs": [
        {
          "output_type": "execute_result",
          "data": {
            "text/plain": [
              "tensor([2., 2., 4., 4.])"
            ]
          },
          "metadata": {},
          "execution_count": 95
        }
      ]
    },
    {
      "cell_type": "code",
      "source": [
        "# ceil\n",
        "torch.ceil(d)"
      ],
      "metadata": {
        "colab": {
          "base_uri": "https://localhost:8080/"
        },
        "id": "UAwU59q7-vd3",
        "outputId": "7e4eb9cb-3a4a-4ccc-bfa3-351160e6f5e2"
      },
      "execution_count": 96,
      "outputs": [
        {
          "output_type": "execute_result",
          "data": {
            "text/plain": [
              "tensor([2., 3., 4., 5.])"
            ]
          },
          "metadata": {},
          "execution_count": 96
        }
      ]
    },
    {
      "cell_type": "code",
      "source": [
        "# floor\n",
        "torch.floor(d)"
      ],
      "metadata": {
        "colab": {
          "base_uri": "https://localhost:8080/"
        },
        "id": "e8YRzxLw-xa3",
        "outputId": "8127e27b-2187-4741-afac-b64903350cc8"
      },
      "execution_count": 97,
      "outputs": [
        {
          "output_type": "execute_result",
          "data": {
            "text/plain": [
              "tensor([1., 2., 3., 4.])"
            ]
          },
          "metadata": {},
          "execution_count": 97
        }
      ]
    },
    {
      "cell_type": "markdown",
      "source": [
        "**`torch.clamp`** is a PyTorch function that restricts (clamps) the values of a tensor to a specified range. Any value below the lower bound is set to the lower bound, and any value above the upper bound is set to the upper bound."
      ],
      "metadata": {
        "id": "1HssdM99-51z"
      }
    },
    {
      "cell_type": "code",
      "source": [
        "# clamp\n",
        "torch.clamp(d, min=2, max=3)"
      ],
      "metadata": {
        "colab": {
          "base_uri": "https://localhost:8080/"
        },
        "id": "LPGL4PnJ-zXk",
        "outputId": "4140cf1a-c42e-45b3-fc9e-c12856cde8b6"
      },
      "execution_count": 98,
      "outputs": [
        {
          "output_type": "execute_result",
          "data": {
            "text/plain": [
              "tensor([2.0000, 2.3000, 3.0000, 3.0000])"
            ]
          },
          "metadata": {},
          "execution_count": 98
        }
      ]
    },
    {
      "cell_type": "markdown",
      "source": [
        "### 3. Reduction Operation"
      ],
      "metadata": {
        "id": "2TtSNI79_MfO"
      }
    },
    {
      "cell_type": "code",
      "source": [
        "e = torch.randint(size=(2,3), low=0, high=10, dtype=torch.float32)\n",
        "e"
      ],
      "metadata": {
        "colab": {
          "base_uri": "https://localhost:8080/"
        },
        "id": "qztYfpjQ_QdU",
        "outputId": "2599daeb-4512-4970-bcaa-fc319424e65d"
      },
      "execution_count": 99,
      "outputs": [
        {
          "output_type": "execute_result",
          "data": {
            "text/plain": [
              "tensor([[8., 0., 7.],\n",
              "        [0., 0., 9.]])"
            ]
          },
          "metadata": {},
          "execution_count": 99
        }
      ]
    },
    {
      "cell_type": "code",
      "source": [
        "# sum all the values\n",
        "torch.sum(e)"
      ],
      "metadata": {
        "colab": {
          "base_uri": "https://localhost:8080/"
        },
        "id": "bv5nt1p6_U9z",
        "outputId": "8de1e8b9-3bd9-47f7-cfb4-72f33f8be3a4"
      },
      "execution_count": 100,
      "outputs": [
        {
          "output_type": "execute_result",
          "data": {
            "text/plain": [
              "tensor(24.)"
            ]
          },
          "metadata": {},
          "execution_count": 100
        }
      ]
    },
    {
      "cell_type": "code",
      "source": [
        "# sum along columns\n",
        "torch.sum(e, dim=0)"
      ],
      "metadata": {
        "colab": {
          "base_uri": "https://localhost:8080/"
        },
        "id": "Scho9Kuw_U3H",
        "outputId": "84e171eb-78bd-443c-e703-3d80c225c220"
      },
      "execution_count": 101,
      "outputs": [
        {
          "output_type": "execute_result",
          "data": {
            "text/plain": [
              "tensor([ 8.,  0., 16.])"
            ]
          },
          "metadata": {},
          "execution_count": 101
        }
      ]
    },
    {
      "cell_type": "code",
      "source": [
        "torch.sum(e, dim=1)"
      ],
      "metadata": {
        "colab": {
          "base_uri": "https://localhost:8080/"
        },
        "id": "iG80Ox83_dxw",
        "outputId": "5f07a703-3245-4bfc-95bc-e0e737caa8b3"
      },
      "execution_count": 102,
      "outputs": [
        {
          "output_type": "execute_result",
          "data": {
            "text/plain": [
              "tensor([15.,  9.])"
            ]
          },
          "metadata": {},
          "execution_count": 102
        }
      ]
    },
    {
      "cell_type": "code",
      "source": [
        "# mean\n",
        "torch.mean(e)\n",
        "# mean along col\n",
        "torch.mean(e, dim=0)"
      ],
      "metadata": {
        "colab": {
          "base_uri": "https://localhost:8080/"
        },
        "id": "-kEJSjnx_iyt",
        "outputId": "07ec2811-8d32-45b4-e713-5a998c264063"
      },
      "execution_count": 103,
      "outputs": [
        {
          "output_type": "execute_result",
          "data": {
            "text/plain": [
              "tensor([4., 0., 8.])"
            ]
          },
          "metadata": {},
          "execution_count": 103
        }
      ]
    },
    {
      "cell_type": "code",
      "source": [
        "# median\n",
        "torch.median(e)"
      ],
      "metadata": {
        "colab": {
          "base_uri": "https://localhost:8080/"
        },
        "id": "Uu5nwR2B_k_6",
        "outputId": "972236d6-c0ea-4f9e-9dab-132984025f98"
      },
      "execution_count": 104,
      "outputs": [
        {
          "output_type": "execute_result",
          "data": {
            "text/plain": [
              "tensor(0.)"
            ]
          },
          "metadata": {},
          "execution_count": 104
        }
      ]
    },
    {
      "cell_type": "code",
      "source": [
        "# max and min\n",
        "torch.max(e)\n",
        "torch.min(e)"
      ],
      "metadata": {
        "colab": {
          "base_uri": "https://localhost:8080/"
        },
        "id": "twNs8je9_ndE",
        "outputId": "08b4e37e-e73d-467b-ef6c-a24823a3a029"
      },
      "execution_count": 105,
      "outputs": [
        {
          "output_type": "execute_result",
          "data": {
            "text/plain": [
              "tensor(0.)"
            ]
          },
          "metadata": {},
          "execution_count": 105
        }
      ]
    },
    {
      "cell_type": "code",
      "source": [
        "# product\n",
        "torch.prod(e)"
      ],
      "metadata": {
        "colab": {
          "base_uri": "https://localhost:8080/"
        },
        "id": "LngKhn6p_pkl",
        "outputId": "f648b191-1c82-473a-e5ad-bd048f53f79f"
      },
      "execution_count": 106,
      "outputs": [
        {
          "output_type": "execute_result",
          "data": {
            "text/plain": [
              "tensor(0.)"
            ]
          },
          "metadata": {},
          "execution_count": 106
        }
      ]
    },
    {
      "cell_type": "code",
      "source": [
        "# standard deviation\n",
        "torch.std(e)"
      ],
      "metadata": {
        "colab": {
          "base_uri": "https://localhost:8080/"
        },
        "id": "BRGMyeks_sNj",
        "outputId": "ee74d2fc-94e5-4bf2-fa66-8be8fb6ab438"
      },
      "execution_count": 107,
      "outputs": [
        {
          "output_type": "execute_result",
          "data": {
            "text/plain": [
              "tensor(4.4272)"
            ]
          },
          "metadata": {},
          "execution_count": 107
        }
      ]
    },
    {
      "cell_type": "code",
      "source": [
        "# variance\n",
        "torch.var(e)"
      ],
      "metadata": {
        "colab": {
          "base_uri": "https://localhost:8080/"
        },
        "id": "Ny1YC8hg_uAD",
        "outputId": "3d659a78-332b-4a9c-ff32-a512ad05dd9a"
      },
      "execution_count": 108,
      "outputs": [
        {
          "output_type": "execute_result",
          "data": {
            "text/plain": [
              "tensor(19.6000)"
            ]
          },
          "metadata": {},
          "execution_count": 108
        }
      ]
    },
    {
      "cell_type": "code",
      "source": [
        "# argmax  gives the index of largest value in matrix\n",
        "torch.argmax(e)"
      ],
      "metadata": {
        "colab": {
          "base_uri": "https://localhost:8080/"
        },
        "id": "4815JMvn_wd8",
        "outputId": "8c5d03e6-6e63-4890-f57d-d8318855b1fc"
      },
      "execution_count": 109,
      "outputs": [
        {
          "output_type": "execute_result",
          "data": {
            "text/plain": [
              "tensor(5)"
            ]
          },
          "metadata": {},
          "execution_count": 109
        }
      ]
    },
    {
      "cell_type": "code",
      "source": [
        "# argmin\n",
        "torch.argmin(e)"
      ],
      "metadata": {
        "id": "if4ClSNU_4ES"
      },
      "execution_count": null,
      "outputs": []
    },
    {
      "cell_type": "markdown",
      "source": [
        "# 3. Matrix Operations"
      ],
      "metadata": {
        "id": "BMGEVU06_5L1"
      }
    },
    {
      "cell_type": "code",
      "source": [
        "f = torch.randint(size=(2,3), low=0, high=10)\n",
        "g = torch.randint(size=(3,2), low=0, high=10)\n",
        "\n",
        "print(f)\n",
        "print(g)"
      ],
      "metadata": {
        "colab": {
          "base_uri": "https://localhost:8080/"
        },
        "id": "Mk7VQ4Ie_8wZ",
        "outputId": "ad000da8-cc30-469a-ba90-b62479194e27"
      },
      "execution_count": 110,
      "outputs": [
        {
          "output_type": "stream",
          "name": "stdout",
          "text": [
            "tensor([[5, 7, 3],\n",
            "        [9, 4, 0]])\n",
            "tensor([[5, 7],\n",
            "        [5, 9],\n",
            "        [9, 7]])\n"
          ]
        }
      ]
    },
    {
      "cell_type": "code",
      "source": [
        "# matrix multiplcation\n",
        "torch.matmul(f, g)"
      ],
      "metadata": {
        "colab": {
          "base_uri": "https://localhost:8080/"
        },
        "id": "Uv0qU00MACgq",
        "outputId": "4450636e-7aa2-4708-87c4-0bb97e69f62f"
      },
      "execution_count": 111,
      "outputs": [
        {
          "output_type": "execute_result",
          "data": {
            "text/plain": [
              "tensor([[ 87, 119],\n",
              "        [ 65,  99]])"
            ]
          },
          "metadata": {},
          "execution_count": 111
        }
      ]
    },
    {
      "cell_type": "code",
      "source": [
        "vector1 = torch.tensor([1, 2])\n",
        "vector2 = torch.tensor([3, 4])\n",
        "\n",
        "# dot product\n",
        "torch.dot(vector1, vector2)"
      ],
      "metadata": {
        "colab": {
          "base_uri": "https://localhost:8080/"
        },
        "id": "lmVXri8YAFKN",
        "outputId": "e726e103-2a43-4f5c-9e50-f76910941fe3"
      },
      "execution_count": 112,
      "outputs": [
        {
          "output_type": "execute_result",
          "data": {
            "text/plain": [
              "tensor(11)"
            ]
          },
          "metadata": {},
          "execution_count": 112
        }
      ]
    },
    {
      "cell_type": "code",
      "source": [
        "# transpose\n",
        "torch.transpose(f, 0, 1)"
      ],
      "metadata": {
        "colab": {
          "base_uri": "https://localhost:8080/"
        },
        "id": "t66tao3SAHfX",
        "outputId": "9779bcc3-822e-4ba8-9648-e85f2ada791a"
      },
      "execution_count": 113,
      "outputs": [
        {
          "output_type": "execute_result",
          "data": {
            "text/plain": [
              "tensor([[5, 9],\n",
              "        [7, 4],\n",
              "        [3, 0]])"
            ]
          },
          "metadata": {},
          "execution_count": 113
        }
      ]
    },
    {
      "cell_type": "code",
      "source": [
        "h = torch.randint(size=(3,3), low=0, high=10, dtype=torch.float32)\n",
        "h"
      ],
      "metadata": {
        "colab": {
          "base_uri": "https://localhost:8080/"
        },
        "id": "SCJsOHRiAJFv",
        "outputId": "34eda0fb-f42e-48be-cce1-0007370d5921"
      },
      "execution_count": 114,
      "outputs": [
        {
          "output_type": "execute_result",
          "data": {
            "text/plain": [
              "tensor([[5., 9., 8.],\n",
              "        [9., 7., 9.],\n",
              "        [2., 6., 7.]])"
            ]
          },
          "metadata": {},
          "execution_count": 114
        }
      ]
    },
    {
      "cell_type": "code",
      "source": [
        "# determinant\n",
        "torch.det(h)"
      ],
      "metadata": {
        "colab": {
          "base_uri": "https://localhost:8080/"
        },
        "id": "1MOj1mvcALZP",
        "outputId": "368aaed6-0b4d-4c39-cb80-4cb22ea75e73"
      },
      "execution_count": 115,
      "outputs": [
        {
          "output_type": "execute_result",
          "data": {
            "text/plain": [
              "tensor(-110.)"
            ]
          },
          "metadata": {},
          "execution_count": 115
        }
      ]
    },
    {
      "cell_type": "code",
      "source": [
        "torch.inverse(h)"
      ],
      "metadata": {
        "colab": {
          "base_uri": "https://localhost:8080/"
        },
        "id": "sOVjiWGSANtm",
        "outputId": "fc40b0ff-4b7b-43d6-e075-a8e3529ae9fc"
      },
      "execution_count": 116,
      "outputs": [
        {
          "output_type": "execute_result",
          "data": {
            "text/plain": [
              "tensor([[ 0.0455,  0.1364, -0.2273],\n",
              "        [ 0.4091, -0.1727, -0.2455],\n",
              "        [-0.3636,  0.1091,  0.4182]])"
            ]
          },
          "metadata": {},
          "execution_count": 116
        }
      ]
    },
    {
      "cell_type": "markdown",
      "source": [
        "# 4. Comparison Operations"
      ],
      "metadata": {
        "id": "N12aNf6VAPbn"
      }
    },
    {
      "cell_type": "code",
      "source": [
        "i = torch.randint(size=(2,3), low=0, high=10)\n",
        "j = torch.randint(size=(2,3), low=0, high=10)\n",
        "\n",
        "print(i)\n",
        "print(j)"
      ],
      "metadata": {
        "colab": {
          "base_uri": "https://localhost:8080/"
        },
        "id": "XuWaKtRVATSU",
        "outputId": "aae29bca-0da8-430b-c848-2c6c8e3cfe02"
      },
      "execution_count": 118,
      "outputs": [
        {
          "output_type": "stream",
          "name": "stdout",
          "text": [
            "tensor([[7, 8, 3],\n",
            "        [6, 1, 5]])\n",
            "tensor([[5, 0, 4],\n",
            "        [3, 8, 8]])\n"
          ]
        }
      ]
    },
    {
      "cell_type": "code",
      "source": [
        "# greater than\n",
        "i > j\n",
        "# less than\n",
        "i < j\n",
        "# equal to\n",
        "i == j\n",
        "# not equal to\n",
        "i != j"
      ],
      "metadata": {
        "colab": {
          "base_uri": "https://localhost:8080/"
        },
        "id": "ySaisuDrAVG-",
        "outputId": "e2e2ec2f-f3c9-4023-bc18-96d834b9a493"
      },
      "execution_count": 119,
      "outputs": [
        {
          "output_type": "execute_result",
          "data": {
            "text/plain": [
              "tensor([[True, True, True],\n",
              "        [True, True, True]])"
            ]
          },
          "metadata": {},
          "execution_count": 119
        }
      ]
    },
    {
      "cell_type": "markdown",
      "source": [
        "# 5. Special Functions"
      ],
      "metadata": {
        "id": "TFN2j0CzAdwt"
      }
    },
    {
      "cell_type": "code",
      "source": [
        "k = torch.randint(size=(2,3), low=0, high=10, dtype=torch.float32)\n",
        "k"
      ],
      "metadata": {
        "colab": {
          "base_uri": "https://localhost:8080/"
        },
        "id": "pjBftufGAkVY",
        "outputId": "88378a8b-4a48-47c6-8073-5672e1f39313"
      },
      "execution_count": 120,
      "outputs": [
        {
          "output_type": "execute_result",
          "data": {
            "text/plain": [
              "tensor([[3., 3., 5.],\n",
              "        [0., 6., 4.]])"
            ]
          },
          "metadata": {},
          "execution_count": 120
        }
      ]
    },
    {
      "cell_type": "code",
      "source": [
        "# log\n",
        "torch.log(k)"
      ],
      "metadata": {
        "colab": {
          "base_uri": "https://localhost:8080/"
        },
        "id": "ium8G2BtAaMH",
        "outputId": "32bc5f93-e5a1-4b2a-90ff-a66878b1b852"
      },
      "execution_count": 121,
      "outputs": [
        {
          "output_type": "execute_result",
          "data": {
            "text/plain": [
              "tensor([[1.0986, 1.0986, 1.6094],\n",
              "        [  -inf, 1.7918, 1.3863]])"
            ]
          },
          "metadata": {},
          "execution_count": 121
        }
      ]
    },
    {
      "cell_type": "code",
      "source": [
        "# exp\n",
        "torch.exp(k)"
      ],
      "metadata": {
        "colab": {
          "base_uri": "https://localhost:8080/"
        },
        "id": "2sFYFRlqApGy",
        "outputId": "adcd4ea4-ce80-4095-fc00-cab0b3ae437e"
      },
      "execution_count": 122,
      "outputs": [
        {
          "output_type": "execute_result",
          "data": {
            "text/plain": [
              "tensor([[ 20.0855,  20.0855, 148.4132],\n",
              "        [  1.0000, 403.4288,  54.5981]])"
            ]
          },
          "metadata": {},
          "execution_count": 122
        }
      ]
    },
    {
      "cell_type": "code",
      "source": [
        "# sqrt\n",
        "torch.sqrt(k)"
      ],
      "metadata": {
        "colab": {
          "base_uri": "https://localhost:8080/"
        },
        "id": "htzLYOFPAq7I",
        "outputId": "b247ece4-ec1c-4158-edf5-a861c078840d"
      },
      "execution_count": 123,
      "outputs": [
        {
          "output_type": "execute_result",
          "data": {
            "text/plain": [
              "tensor([[1.7321, 1.7321, 2.2361],\n",
              "        [0.0000, 2.4495, 2.0000]])"
            ]
          },
          "metadata": {},
          "execution_count": 123
        }
      ]
    },
    {
      "cell_type": "code",
      "source": [
        "# sigmoid\n",
        "torch.sigmoid(k)"
      ],
      "metadata": {
        "colab": {
          "base_uri": "https://localhost:8080/"
        },
        "id": "N7Rq3rwJAtcX",
        "outputId": "e4cf2868-d754-4592-91c5-bf9adcd3c670"
      },
      "execution_count": 124,
      "outputs": [
        {
          "output_type": "execute_result",
          "data": {
            "text/plain": [
              "tensor([[0.9526, 0.9526, 0.9933],\n",
              "        [0.5000, 0.9975, 0.9820]])"
            ]
          },
          "metadata": {},
          "execution_count": 124
        }
      ]
    },
    {
      "cell_type": "code",
      "source": [
        "# softmax\n",
        "torch.softmax(k, dim=0)"
      ],
      "metadata": {
        "colab": {
          "base_uri": "https://localhost:8080/"
        },
        "id": "ALLDvL_LAvcd",
        "outputId": "f6b01489-7efe-4b01-c860-2dfbdfb9d3b8"
      },
      "execution_count": 125,
      "outputs": [
        {
          "output_type": "execute_result",
          "data": {
            "text/plain": [
              "tensor([[0.9526, 0.0474, 0.7311],\n",
              "        [0.0474, 0.9526, 0.2689]])"
            ]
          },
          "metadata": {},
          "execution_count": 125
        }
      ]
    },
    {
      "cell_type": "code",
      "source": [
        "# relu\n",
        "torch.relu(k)"
      ],
      "metadata": {
        "colab": {
          "base_uri": "https://localhost:8080/"
        },
        "id": "4H33FdCyAxNQ",
        "outputId": "223e9df7-07e0-4fa9-976d-802c1d71a4a3"
      },
      "execution_count": 126,
      "outputs": [
        {
          "output_type": "execute_result",
          "data": {
            "text/plain": [
              "tensor([[3., 3., 5.],\n",
              "        [0., 6., 4.]])"
            ]
          },
          "metadata": {},
          "execution_count": 126
        }
      ]
    },
    {
      "cell_type": "markdown",
      "source": [
        "# 6. Inplace Operations\n",
        "\n",
        "When we perform element wise opeartions, then the resualtant vector will be new vector and original vectors will remain same.\n",
        "\n",
        "Sometimes in element wise opearions we want to make changes in orignal tensor, to achieve this we'll use inplace operations"
      ],
      "metadata": {
        "id": "f6tFG4p0rdvB"
      }
    },
    {
      "cell_type": "markdown",
      "source": [
        "To perform inplace operations just add *underscore* in front of normal operation. Such as\n",
        " - `relu` becomes `relu_`\n",
        " - `add` becomes `add_`"
      ],
      "metadata": {
        "id": "cA59mI0ttVZP"
      }
    },
    {
      "cell_type": "code",
      "source": [
        "m = torch.rand(2,3)\n",
        "n = torch.rand(2,3)\n",
        "\n",
        "print(m)\n",
        "print(n)"
      ],
      "metadata": {
        "colab": {
          "base_uri": "https://localhost:8080/"
        },
        "id": "HAj9Fngurhum",
        "outputId": "670ca661-3350-40b7-8698-ebc39c611152"
      },
      "execution_count": 11,
      "outputs": [
        {
          "output_type": "stream",
          "name": "stdout",
          "text": [
            "tensor([[0.2566, 0.7936, 0.9408],\n",
            "        [0.1332, 0.9346, 0.5936]])\n",
            "tensor([[0.8694, 0.5677, 0.7411],\n",
            "        [0.4294, 0.8854, 0.5739]])\n"
          ]
        }
      ]
    },
    {
      "cell_type": "code",
      "source": [
        "m.add_(n)"
      ],
      "metadata": {
        "colab": {
          "base_uri": "https://localhost:8080/"
        },
        "id": "_WE05yOvsDTK",
        "outputId": "93e45189-ef4a-483e-ad8d-e3a206dedbec"
      },
      "execution_count": 12,
      "outputs": [
        {
          "output_type": "execute_result",
          "data": {
            "text/plain": [
              "tensor([[1.1260, 1.3614, 1.6819],\n",
              "        [0.5626, 1.8200, 1.1675]])"
            ]
          },
          "metadata": {},
          "execution_count": 12
        }
      ]
    },
    {
      "cell_type": "markdown",
      "source": [
        "Here you can see that the values of orignal vector `m` are chnaged"
      ],
      "metadata": {
        "id": "i-bA00Fts4Kt"
      }
    },
    {
      "cell_type": "code",
      "source": [
        "m"
      ],
      "metadata": {
        "colab": {
          "base_uri": "https://localhost:8080/"
        },
        "id": "Hwi3HqFEszkr",
        "outputId": "16383a8b-af6c-4d94-a643-7596c7b1fbf0"
      },
      "execution_count": 13,
      "outputs": [
        {
          "output_type": "execute_result",
          "data": {
            "text/plain": [
              "tensor([[1.1260, 1.3614, 1.6819],\n",
              "        [0.5626, 1.8200, 1.1675]])"
            ]
          },
          "metadata": {},
          "execution_count": 13
        }
      ]
    },
    {
      "cell_type": "code",
      "source": [
        "# Relu operation\n",
        "m.relu_()"
      ],
      "metadata": {
        "colab": {
          "base_uri": "https://localhost:8080/"
        },
        "id": "dEm1XFGItCBR",
        "outputId": "bcb603ee-13e0-4acf-d18a-529db8f98e45"
      },
      "execution_count": 14,
      "outputs": [
        {
          "output_type": "execute_result",
          "data": {
            "text/plain": [
              "tensor([[1.1260, 1.3614, 1.6819],\n",
              "        [0.5626, 1.8200, 1.1675]])"
            ]
          },
          "metadata": {},
          "execution_count": 14
        }
      ]
    },
    {
      "cell_type": "markdown",
      "source": [
        "# 7. Copying Tensor"
      ],
      "metadata": {
        "id": "TKtIH62WtvQ8"
      }
    },
    {
      "cell_type": "code",
      "source": [
        "p = torch.rand(size = (2,3))\n",
        "p"
      ],
      "metadata": {
        "colab": {
          "base_uri": "https://localhost:8080/"
        },
        "id": "ihkp6Oz_tysD",
        "outputId": "6497044d-61f5-49c6-8c9a-b8256c532392"
      },
      "execution_count": 31,
      "outputs": [
        {
          "output_type": "execute_result",
          "data": {
            "text/plain": [
              "tensor([[0.7104, 0.9464, 0.7890],\n",
              "        [0.2814, 0.7886, 0.5895]])"
            ]
          },
          "metadata": {},
          "execution_count": 31
        }
      ]
    },
    {
      "cell_type": "markdown",
      "source": [
        "One Simple approach to copy any tensor or matrix is by using assignment (`=`) operator.\n",
        "\n",
        "But There is one problem in this approach, assignment opeartor doesn't create a copy, it just create a refernce to the matrix. This means changes in original matrix will also be reflected in all the copies, which is sometime very undesirable"
      ],
      "metadata": {
        "id": "fS7uuk4Ku8Q0"
      }
    },
    {
      "cell_type": "code",
      "source": [
        "ref_copy = p"
      ],
      "metadata": {
        "id": "5oVtkGcNukuH"
      },
      "execution_count": 32,
      "outputs": []
    },
    {
      "cell_type": "code",
      "source": [
        "# ID of ref_copy and orignal matrix p is same\n",
        "print(id(ref_copy))\n",
        "print(id(p))"
      ],
      "metadata": {
        "colab": {
          "base_uri": "https://localhost:8080/"
        },
        "id": "O-gUUsmwvpEB",
        "outputId": "d9b8c2bb-2178-4281-f2b0-d29f708deee9"
      },
      "execution_count": 33,
      "outputs": [
        {
          "output_type": "stream",
          "name": "stdout",
          "text": [
            "137193278976336\n",
            "137193278976336\n"
          ]
        }
      ]
    },
    {
      "cell_type": "markdown",
      "source": [
        "### **`clone`** creates deep copy of orignal matrix"
      ],
      "metadata": {
        "id": "lLlhi3hhv4BZ"
      }
    },
    {
      "cell_type": "code",
      "source": [
        "deep_copy = p.clone()"
      ],
      "metadata": {
        "id": "3HykJjtZwT8j"
      },
      "execution_count": 34,
      "outputs": []
    },
    {
      "cell_type": "code",
      "source": [
        "deep_copy[0][0] = 98\n",
        "deep_copy"
      ],
      "metadata": {
        "colab": {
          "base_uri": "https://localhost:8080/"
        },
        "id": "uZU9oi-Zv9lS",
        "outputId": "5504f564-439a-4e6a-e616-6fe21def59a8"
      },
      "execution_count": 35,
      "outputs": [
        {
          "output_type": "execute_result",
          "data": {
            "text/plain": [
              "tensor([[98.0000,  0.9464,  0.7890],\n",
              "        [ 0.2814,  0.7886,  0.5895]])"
            ]
          },
          "metadata": {},
          "execution_count": 35
        }
      ]
    },
    {
      "cell_type": "code",
      "source": [
        "p"
      ],
      "metadata": {
        "colab": {
          "base_uri": "https://localhost:8080/"
        },
        "id": "uV-_fUaGwP4B",
        "outputId": "3f2577cb-4a32-4622-cd74-45ebf7eda7a1"
      },
      "execution_count": 36,
      "outputs": [
        {
          "output_type": "execute_result",
          "data": {
            "text/plain": [
              "tensor([[0.7104, 0.9464, 0.7890],\n",
              "        [0.2814, 0.7886, 0.5895]])"
            ]
          },
          "metadata": {},
          "execution_count": 36
        }
      ]
    },
    {
      "cell_type": "code",
      "source": [
        "# Id of deep_copy and orignal tensor p is different\n",
        "print(id(deep_copy))\n",
        "print(id(p))"
      ],
      "metadata": {
        "colab": {
          "base_uri": "https://localhost:8080/"
        },
        "id": "VQs-uPcTwtU1",
        "outputId": "f300ae6c-7d58-4bd3-c39d-44b67e453042"
      },
      "execution_count": 37,
      "outputs": [
        {
          "output_type": "stream",
          "name": "stdout",
          "text": [
            "137193278979696\n",
            "137193278976336\n"
          ]
        }
      ]
    },
    {
      "cell_type": "markdown",
      "source": [
        "# 8. Tensor Opeartions on GPU"
      ],
      "metadata": {
        "id": "pX5AK65kw9D5"
      }
    },
    {
      "cell_type": "code",
      "source": [
        "torch.cuda.is_available()"
      ],
      "metadata": {
        "colab": {
          "base_uri": "https://localhost:8080/"
        },
        "id": "VHnz1kNvxByw",
        "outputId": "ed790f73-357f-4417-d91e-a0dbce142bb2"
      },
      "execution_count": 38,
      "outputs": [
        {
          "output_type": "execute_result",
          "data": {
            "text/plain": [
              "True"
            ]
          },
          "metadata": {},
          "execution_count": 38
        }
      ]
    },
    {
      "cell_type": "code",
      "source": [
        "device = torch.device('cuda')"
      ],
      "metadata": {
        "id": "XIr8DCYsxFsV"
      },
      "execution_count": 39,
      "outputs": []
    },
    {
      "cell_type": "code",
      "source": [
        "# Creating a new tensor on GPU\n",
        "torch.rand(2,3, device= device)"
      ],
      "metadata": {
        "colab": {
          "base_uri": "https://localhost:8080/"
        },
        "id": "cXHAV7MTxRb_",
        "outputId": "42d4a142-9f3f-4ffe-ccf5-e265879432a0"
      },
      "execution_count": 40,
      "outputs": [
        {
          "output_type": "execute_result",
          "data": {
            "text/plain": [
              "tensor([[0.6130, 0.0101, 0.3984],\n",
              "        [0.0403, 0.1563, 0.4825]], device='cuda:0')"
            ]
          },
          "metadata": {},
          "execution_count": 40
        }
      ]
    },
    {
      "cell_type": "markdown",
      "source": [
        "There are two ways to perform tensor opeartions on Tensor\n",
        " - Make Tensors on GPU using the above method\n",
        " - Move the existing CPU Tensors to GPU"
      ],
      "metadata": {
        "id": "LeimTda2x2jO"
      }
    },
    {
      "cell_type": "code",
      "source": [
        "# Moving Existiing Tensors to GPU\n",
        "a_on_GPU = a.to(device)"
      ],
      "metadata": {
        "id": "62RaOiemyGjb"
      },
      "execution_count": 41,
      "outputs": []
    },
    {
      "cell_type": "code",
      "source": [
        "a_on_GPU"
      ],
      "metadata": {
        "colab": {
          "base_uri": "https://localhost:8080/"
        },
        "id": "WZEhVMj_xdaz",
        "outputId": "238b9dc2-4c82-4144-a3f1-0a11fc4b2f65"
      },
      "execution_count": 42,
      "outputs": [
        {
          "output_type": "execute_result",
          "data": {
            "text/plain": [
              "tensor([[0., 0., 0., 0.],\n",
              "        [0., 0., 0., 0.]], device='cuda:0')"
            ]
          },
          "metadata": {},
          "execution_count": 42
        }
      ]
    },
    {
      "cell_type": "markdown",
      "source": [
        "So, what is benefit of having tensors on GPU?\n",
        "\n",
        "**Speed**, i would say. To demonstarte this let's take an example"
      ],
      "metadata": {
        "id": "UnNtLFINyjhz"
      }
    },
    {
      "cell_type": "code",
      "source": [
        "import time\n",
        "\n",
        "# Define the  size of matrices\n",
        "size  = 10000\n",
        "\n",
        "# Create random matrices on CPU\n",
        "matrix_cpu1 = torch.randn(size,size)\n",
        "matrix_cpu2 = torch.randn(size,size)\n",
        "\n",
        "# Measure time on CPU\n",
        "start_time = time.time()\n",
        "result_cpu = torch.matmul(matrix_cpu1, matrix_cpu2)\n",
        "cpu_time = time.time() - start_time\n",
        "\n",
        "print(f'Time on CPU: {cpu_time:.4f} seconds')\n",
        "\n",
        "# Move matrices on GPU\n",
        "matrix_gpu1 = matrix_cpu1.to('cuda')\n",
        "matrix_gpu2 = matrix_cpu2.to('cuda')\n",
        "\n",
        "# Measure time on GPU\n",
        "start_time = time.time()\n",
        "result_cpu = torch.matmul(matrix_gpu1, matrix_gpu2)\n",
        "gpu_time = time.time() - start_time\n",
        "\n",
        "print(f'Time on GPU: {gpu_time:.4f} seconds')\n",
        "\n",
        "# Compare results\n",
        "print(\"\\nSpeedup (CPU time / GPU time):\", cpu_time / gpu_time)"
      ],
      "metadata": {
        "colab": {
          "base_uri": "https://localhost:8080/"
        },
        "id": "Mn8I8y8RyuiU",
        "outputId": "5ab591e7-9d27-4f27-d5aa-fdc3d2caf08d"
      },
      "execution_count": 46,
      "outputs": [
        {
          "output_type": "stream",
          "name": "stdout",
          "text": [
            "Time on CPU: 15.6828 seconds\n",
            "Time on GPU: 0.1241 seconds\n",
            "\n",
            "Speedup (CPU time / GPU time): 126.41742868893732\n"
          ]
        }
      ]
    },
    {
      "cell_type": "markdown",
      "source": [
        "Yes, there are differences between GPU tensors and CPU tensors in PyTorch, and whether operations can be performed across them depends on where the tensors are stored.\n",
        "\n",
        "### Differences Between GPU and CPU Tensors\n",
        "1. **Device**:\n",
        "   - CPU tensors reside in the system's main memory.\n",
        "   - GPU tensors reside in the GPU's memory, which is separate from the system's memory.\n",
        "\n",
        "2. **Performance**:\n",
        "   - GPU tensors are optimized for massively parallel operations, making them much faster for large-scale computations like matrix multiplications.\n",
        "   - CPU tensors are better for small-scale tasks or operations with less parallelism.\n",
        "\n",
        "3. **Device-Specific Operations**:\n",
        "   - Some PyTorch operations may behave differently or may only be available on the GPU (e.g., operations using `torch.cuda`).\n",
        "\n",
        "### Operations Between CPU and GPU Tensors\n",
        "You **cannot directly perform operations between a CPU tensor and a GPU tensor**. If you try, PyTorch will throw an error like this:\n",
        "```\n",
        "RuntimeError: Expected all tensors to be on the same device\n",
        "```\n",
        "\n",
        "### Transferring Tensors\n",
        "To perform operations, both tensors must reside on the same device. You can move tensors between devices using `.to()`, `.cuda()`, or `.cpu()`:\n",
        "\n",
        "1. **Move CPU tensor to GPU**:\n",
        "   ```python\n",
        "   cpu_tensor = torch.tensor([1, 2, 3])\n",
        "   gpu_tensor = cpu_tensor.to('cuda')  # Or .cuda()\n",
        "   ```\n",
        "\n",
        "2. **Move GPU tensor to CPU**:\n",
        "   ```python\n",
        "   gpu_tensor = torch.tensor([1, 2, 3], device='cuda')\n",
        "   cpu_tensor = gpu_tensor.to('cpu')\n",
        "   ```\n",
        "\n",
        "3. **Performing Operations**:\n",
        "   Once the tensors are on the same device, operations will work as expected:\n",
        "   ```python\n",
        "   a = torch.tensor([1, 2, 3], device='cuda')\n",
        "   b = torch.tensor([4, 5, 6], device='cuda')\n",
        "   result = a + b  # Works because both are on GPU\n",
        "   ```\n",
        "\n",
        "4. **Automatic Device Handling**:\n",
        "   To simplify device management, you can use `.to(device)` dynamically:\n",
        "   ```python\n",
        "   device = torch.device(\"cuda\" if torch.cuda.is_available() else \"cpu\")\n",
        "   tensor = torch.tensor([1, 2, 3]).to(device)\n",
        "   ```\n"
      ],
      "metadata": {
        "id": "eTZi_kw01V-5"
      }
    },
    {
      "cell_type": "markdown",
      "source": [
        "# 9. Reshaping Tensors\n",
        "\n",
        "The `torch.reshape` function in PyTorch reshapes a tensor without changing its data. However, certain conditions must be met for it to work properly:\n",
        "\n",
        "\n",
        "### **Necessary Conditions for `torch.reshape`:**\n",
        "1. **Consistency of Total Elements**:\n",
        "   - The total number of elements in the input tensor must match the total number of elements in the desired shape. This ensures no data is lost or created during reshaping.\n",
        "   - Formula:\n",
        "     \\[\n",
        "     \\text{Product of dimensions in input shape} = \\text{Product of dimensions in desired shape}\n",
        "     \\]\n",
        "\n",
        "   Example:\n",
        "   ```python\n",
        "   a = torch.tensor([[1, 2], [3, 4], [5, 6]])  # Shape: (3, 2)\n",
        "   b = a.reshape(2, 3)  # Valid, as 3*2 = 2*3\n",
        "   ```\n",
        "\n",
        "   Invalid Example:\n",
        "   ```python\n",
        "   a = torch.tensor([[1, 2], [3, 4], [5, 6]])  # Shape: (3, 2)\n",
        "   b = a.reshape(2, 4)  # Error, as 3*2 ≠ 2*4\n",
        "   ```\n",
        "\n",
        "2. **Use of `-1`**:\n",
        "   - You can use `-1` in one dimension of the target shape to let PyTorch automatically infer that dimension based on the total number of elements.\n",
        "   - Only **one dimension** can be `-1`.\n",
        "\n",
        "   Example:\n",
        "   ```python\n",
        "   a = torch.tensor([[1, 2], [3, 4], [5, 6]])  # Shape: (3, 2)\n",
        "   b = a.reshape(-1, 3)  # Shape becomes (2, 3)\n",
        "   ```\n",
        "\n",
        "   Invalid Example:\n",
        "   ```python\n",
        "   a = torch.tensor([[1, 2], [3, 4], [5, 6]])  # Shape: (3, 2)\n",
        "   b = a.reshape(-1, -1)  # Error, as two dimensions can't be -1\n",
        "   ```\n",
        "\n",
        "---\n",
        "\n",
        "\n",
        "\n",
        "\n"
      ],
      "metadata": {
        "id": "Rt_kDhrb1hth"
      }
    },
    {
      "cell_type": "code",
      "source": [
        "q = torch.ones(4,4)\n",
        "q"
      ],
      "metadata": {
        "colab": {
          "base_uri": "https://localhost:8080/"
        },
        "id": "5FVV5CtNzJqy",
        "outputId": "6006e62e-7a0a-420d-e034-3149a25138b0"
      },
      "execution_count": 47,
      "outputs": [
        {
          "output_type": "execute_result",
          "data": {
            "text/plain": [
              "tensor([[1., 1., 1., 1.],\n",
              "        [1., 1., 1., 1.],\n",
              "        [1., 1., 1., 1.],\n",
              "        [1., 1., 1., 1.]])"
            ]
          },
          "metadata": {},
          "execution_count": 47
        }
      ]
    },
    {
      "cell_type": "code",
      "source": [
        "q.reshape(2,2,2,2)"
      ],
      "metadata": {
        "colab": {
          "base_uri": "https://localhost:8080/"
        },
        "id": "oI0Wn9ln1uKd",
        "outputId": "3949aea0-02da-4bf7-8a4e-a967fd666d0b"
      },
      "execution_count": 50,
      "outputs": [
        {
          "output_type": "execute_result",
          "data": {
            "text/plain": [
              "tensor([[[[1., 1.],\n",
              "          [1., 1.]],\n",
              "\n",
              "         [[1., 1.],\n",
              "          [1., 1.]]],\n",
              "\n",
              "\n",
              "        [[[1., 1.],\n",
              "          [1., 1.]],\n",
              "\n",
              "         [[1., 1.],\n",
              "          [1., 1.]]]])"
            ]
          },
          "metadata": {},
          "execution_count": 50
        }
      ]
    },
    {
      "cell_type": "code",
      "source": [
        "# Flattens the Tensor to one dimensional Tenor\n",
        "q.flatten()"
      ],
      "metadata": {
        "colab": {
          "base_uri": "https://localhost:8080/"
        },
        "id": "P6cXgUbV2y3u",
        "outputId": "cd1a4748-9289-46dc-b07b-f4965b094068"
      },
      "execution_count": 51,
      "outputs": [
        {
          "output_type": "execute_result",
          "data": {
            "text/plain": [
              "tensor([1., 1., 1., 1., 1., 1., 1., 1., 1., 1., 1., 1., 1., 1., 1., 1.])"
            ]
          },
          "metadata": {},
          "execution_count": 51
        }
      ]
    },
    {
      "cell_type": "code",
      "source": [
        "s = torch.rand(2,3,4)\n",
        "s"
      ],
      "metadata": {
        "colab": {
          "base_uri": "https://localhost:8080/"
        },
        "id": "7jsyDRnY3CAg",
        "outputId": "644fbabe-4acb-48ed-82c5-b6010b86bd23"
      },
      "execution_count": 52,
      "outputs": [
        {
          "output_type": "execute_result",
          "data": {
            "text/plain": [
              "tensor([[[0.8727, 0.4904, 0.7581, 0.6359],\n",
              "         [0.5027, 0.0819, 0.9114, 0.0129],\n",
              "         [0.8586, 0.4301, 0.7264, 0.7931]],\n",
              "\n",
              "        [[0.8030, 0.9458, 0.7073, 0.9908],\n",
              "         [0.0038, 0.2487, 0.1595, 0.3193],\n",
              "         [0.3111, 0.2432, 0.9495, 0.8161]]])"
            ]
          },
          "metadata": {},
          "execution_count": 52
        }
      ]
    },
    {
      "cell_type": "markdown",
      "source": [
        "### Permuataion\n",
        "\n",
        "**`tensor.permute`** is a PyTorch function that rearranges the dimensions (axes) of a tensor in the order you specify. It doesn't change the data, only how the dimensions are ordered.\n",
        "\n",
        "**Key Idea**\n",
        "\n",
        " - It reorders the axes of the tensor.\n",
        " - Useful for changing the shape of data to match specific requirements, such as for different operations or libraries.\n",
        "\n",
        " -`permute` changes the order of dimensions but doesn’t modify the underlying data.\n",
        " -It differs from view or reshape because it doesn't flatten or reassign data; it just reorders axes."
      ],
      "metadata": {
        "id": "PC2hOZQ83dAG"
      }
    },
    {
      "cell_type": "code",
      "source": [
        "s.permute(2, 1, 0).shape"
      ],
      "metadata": {
        "colab": {
          "base_uri": "https://localhost:8080/"
        },
        "id": "q809j_KH3mHf",
        "outputId": "67ea516b-20ad-40f8-de4e-1e9265c71a45"
      },
      "execution_count": 55,
      "outputs": [
        {
          "output_type": "execute_result",
          "data": {
            "text/plain": [
              "torch.Size([4, 3, 2])"
            ]
          },
          "metadata": {},
          "execution_count": 55
        }
      ]
    },
    {
      "cell_type": "markdown",
      "source": [
        "### Sequeeze & Unsqueeze\n",
        "\n",
        "`torch.unsqueeze` function adds a new dimension (axis) of size 1 to a tensor at a specified position. It's useful for aligning tensor dimensions for operations like broadcasting or for reshaping data.\n",
        "\n"
      ],
      "metadata": {
        "id": "ts5RMMuo4-Oz"
      }
    },
    {
      "cell_type": "code",
      "source": [
        "s.shape"
      ],
      "metadata": {
        "colab": {
          "base_uri": "https://localhost:8080/"
        },
        "id": "cRbnMQiL4ZvK",
        "outputId": "bd974538-ca98-4443-d682-d498d95639d5"
      },
      "execution_count": 57,
      "outputs": [
        {
          "output_type": "execute_result",
          "data": {
            "text/plain": [
              "torch.Size([2, 3, 4])"
            ]
          },
          "metadata": {},
          "execution_count": 57
        }
      ]
    },
    {
      "cell_type": "markdown",
      "source": [
        "Now we can add another dimension at any given index in `s` vector."
      ],
      "metadata": {
        "id": "KkaNiu2a5UW6"
      }
    },
    {
      "cell_type": "code",
      "source": [
        "# Adding a new dimension at index 1\n",
        "s.unsqueeze(1).shape"
      ],
      "metadata": {
        "colab": {
          "base_uri": "https://localhost:8080/"
        },
        "id": "MFyAYhUm5bBK",
        "outputId": "892a2954-71a4-4d89-959b-80b42f38c10a"
      },
      "execution_count": 59,
      "outputs": [
        {
          "output_type": "execute_result",
          "data": {
            "text/plain": [
              "torch.Size([2, 1, 3, 4])"
            ]
          },
          "metadata": {},
          "execution_count": 59
        }
      ]
    },
    {
      "cell_type": "markdown",
      "source": [
        "Opposite of `unsqueeze` is `squeeze` function,, which removes dimension t any given index"
      ],
      "metadata": {
        "id": "aqmnKH2m5l5v"
      }
    },
    {
      "cell_type": "code",
      "source": [
        "s.squeeze(1).shape"
      ],
      "metadata": {
        "colab": {
          "base_uri": "https://localhost:8080/"
        },
        "id": "FSaQzRT25klu",
        "outputId": "11fd6a26-8bee-4cc1-9255-efdd88e26d06"
      },
      "execution_count": 61,
      "outputs": [
        {
          "output_type": "execute_result",
          "data": {
            "text/plain": [
              "torch.Size([2, 3, 4])"
            ]
          },
          "metadata": {},
          "execution_count": 61
        }
      ]
    },
    {
      "cell_type": "markdown",
      "source": [
        "# 10. Numpy and Pytorch Tensor\n",
        "\n",
        "Both NumPy arrays and PyTorch tensors are used for handling multidimensional data, but there are key differences between the two in terms of functionality, performance, and use cases.\n",
        "\n",
        "---\n",
        "\n",
        "### **Key Differences**\n",
        "\n",
        "| Feature                | NumPy Array                           | PyTorch Tensor                        |\n",
        "|------------------------|----------------------------------------|---------------------------------------|\n",
        "| **Device Support**     | Works only on CPU.                    | Works on both CPU and GPU (via CUDA). |\n",
        "| **Data Types**         | Limited to basic data types.          | Supports advanced types (e.g., `float16`, `bfloat16`) and gradient-enabled types. |\n",
        "| **Automatic Gradients**| Not supported.                        | Supports automatic differentiation (`requires_grad=True`). |\n",
        "| **Performance**        | Limited to single-threaded or CPU-parallel operations. | Optimized for GPUs and large-scale parallel operations. |\n",
        "| **Deep Learning**      | Not directly usable for training ML models. | Designed for deep learning and seamlessly integrates with libraries like PyTorch. |\n",
        "| **Interoperability**   | Standard for numerical computation in Python. | Can convert to/from NumPy arrays easily. |\n",
        "| **Broadcasting**       | Supports broadcasting for arithmetic. | Also supports broadcasting, with behavior similar to NumPy. |\n",
        "\n",
        "---\n",
        "\n",
        "\n",
        "\n",
        "\n"
      ],
      "metadata": {
        "id": "O_TlP-wp6iuS"
      }
    },
    {
      "cell_type": "code",
      "source": [
        "import numpy as np"
      ],
      "metadata": {
        "id": "5QZ9SO1463H0"
      },
      "execution_count": 62,
      "outputs": []
    },
    {
      "cell_type": "code",
      "source": [
        "t = torch.tensor([1,2,3])\n",
        "t"
      ],
      "metadata": {
        "colab": {
          "base_uri": "https://localhost:8080/"
        },
        "id": "C4uxCaxJ69CC",
        "outputId": "431890f2-7571-46f3-d46e-789788eface9"
      },
      "execution_count": 63,
      "outputs": [
        {
          "output_type": "execute_result",
          "data": {
            "text/plain": [
              "tensor([1, 2, 3])"
            ]
          },
          "metadata": {},
          "execution_count": 63
        }
      ]
    },
    {
      "cell_type": "code",
      "source": [
        "# Converting pytorch tensor to numpy tensor\n",
        "numpy_tensor = t.numpy()\n",
        "numpy_tensor"
      ],
      "metadata": {
        "colab": {
          "base_uri": "https://localhost:8080/"
        },
        "id": "51wNhOrf7Ddc",
        "outputId": "f37a9aa8-e37e-4a22-e4c5-22e364cbe610"
      },
      "execution_count": 65,
      "outputs": [
        {
          "output_type": "execute_result",
          "data": {
            "text/plain": [
              "array([1, 2, 3])"
            ]
          },
          "metadata": {},
          "execution_count": 65
        }
      ]
    },
    {
      "cell_type": "code",
      "source": [
        "print(type(t))\n",
        "print(type(numpy_tensor))"
      ],
      "metadata": {
        "colab": {
          "base_uri": "https://localhost:8080/"
        },
        "id": "mlxIZI_W7UsT",
        "outputId": "17e4bc0b-d59a-436a-df82-5057ab316609"
      },
      "execution_count": 66,
      "outputs": [
        {
          "output_type": "stream",
          "name": "stdout",
          "text": [
            "<class 'torch.Tensor'>\n",
            "<class 'numpy.ndarray'>\n"
          ]
        }
      ]
    },
    {
      "cell_type": "markdown",
      "source": [
        "We can convert numpy array to pytorch Tensor using `from_numpy()` function"
      ],
      "metadata": {
        "id": "YVrSPA3k7cEc"
      }
    },
    {
      "cell_type": "code",
      "source": [
        "numpy_tensor2 = np.array([1,3,57,98])\n",
        "numpy_tensor2"
      ],
      "metadata": {
        "colab": {
          "base_uri": "https://localhost:8080/"
        },
        "id": "FWma_iqF7gj0",
        "outputId": "dcb05e58-a2a5-4fab-999c-958b7c9aea47"
      },
      "execution_count": 67,
      "outputs": [
        {
          "output_type": "execute_result",
          "data": {
            "text/plain": [
              "array([ 1,  3, 57, 98])"
            ]
          },
          "metadata": {},
          "execution_count": 67
        }
      ]
    },
    {
      "cell_type": "code",
      "source": [
        "numpy_to_torch = torch.from_numpy(numpy_tensor2)\n",
        "type(numpy_to_torch)"
      ],
      "metadata": {
        "colab": {
          "base_uri": "https://localhost:8080/"
        },
        "id": "85MbZ6VI7xRv",
        "outputId": "212aa2da-15bd-470b-f402-da88866dee33"
      },
      "execution_count": 69,
      "outputs": [
        {
          "output_type": "execute_result",
          "data": {
            "text/plain": [
              "torch.Tensor"
            ]
          },
          "metadata": {},
          "execution_count": 69
        }
      ]
    }
  ],
  "metadata": {
    "accelerator": "GPU",
    "colab": {
      "gpuType": "T4",
      "provenance": []
    },
    "kernelspec": {
      "display_name": "Python 3",
      "name": "python3"
    },
    "language_info": {
      "name": "python"
    }
  },
  "nbformat": 4,
  "nbformat_minor": 0
}